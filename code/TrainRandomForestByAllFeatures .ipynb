{
 "cells": [
  {
   "cell_type": "markdown",
   "metadata": {},
   "source": [
    "# Read the data from csv file, the process"
   ]
  },
  {
   "cell_type": "code",
   "execution_count": null,
   "metadata": {},
   "outputs": [],
   "source": [
    "import numpy\n",
    "import csv\n",
    "from sklearn.model_selection import train_test_split\n",
    "from sklearn import ensemble\n",
    "from sklearn.metrics import mean_squared_error\n",
    "import pylab as plot\n",
    "\n",
    "#open the csv document.\n",
    "data=open(\"winequality-red.csv\")\n",
    "\n",
    "\n",
    "#read the first row of data which are attributes into list names, then read the rest data into list row, \n",
    "#meanwhile, extract the last column of list row, then, put it in the list labels.\n",
    "xlist=[]\n",
    "labels=[]\n",
    "names=[]\n",
    "firstline=True\n",
    "for line in data:\n",
    "    if firstline:\n",
    "        names=line.strip().split(';')\n",
    "        firstline=False\n",
    "    else:\n",
    "        row=line.strip().split(';')\n",
    "        labels.append(float(row[-1]))\n",
    "        row.pop()\n",
    "        floatrow=[float(num) for num in row]\n",
    "        xlist.append(floatrow)\n",
    "\n",
    "#compute size of rows and columns.\n",
    "nrows=len(xlist)\n",
    "ncols=len(xlist[1])\n",
    "\n",
    "#transfer into numpy format.\n",
    "x=numpy.array(xlist)\n",
    "y=numpy.array(labels)\n",
    "winenames=numpy.array(names)\n"
   ]
  },
  {
   "cell_type": "markdown",
   "metadata": {},
   "source": [
    "# Train the model and output the prediction accuracy"
   ]
  },
  {
   "cell_type": "code",
   "execution_count": null,
   "metadata": {},
   "outputs": [],
   "source": [
    "#randomly draw 30% data from the dataset for testing, and set the random_state equals 531.\n",
    "xtrain,xtest,ytrain,ytest=train_test_split(x,y,test_size=0.30,random_state=531)\n",
    "\n",
    "mseoos = []\n",
    "accuracy = []\n",
    "#test the accruacy in terms of amounts of trees which range from 50 to 500, and the single step is 10.\n",
    "ntreelist=range(50,500,10)\n",
    "dic = {}\n",
    "for itrees in ntreelist:\n",
    "    count=0\n",
    "    depth=None\n",
    "    maxfeat=4\n",
    "    #train the Random Forest model.\n",
    "    winerandomforestmodel=ensemble.RandomForestClassifier(n_estimators=itrees,max_depth=depth,max_features=maxfeat,oob_score=False,random_state=531)\n",
    "    winerandomforestmodel.fit(xtrain,ytrain)\n",
    "    prediction=winerandomforestmodel.predict(xtest)\n",
    "    #put the prediction accuracy into dictionary.\n",
    "    for i in range(len(prediction)):\n",
    "        if prediction[i]==ytest[i]:\n",
    "            count += 1\n",
    "    accuracy.append((count/len(prediction)))\n",
    "    dic[itrees] = count/len(prediction)\n",
    "    mseoos.append(mean_squared_error(ytest,prediction))\n",
    "for key,value in dic.items():\n",
    "    if value == max(dic.values()):\n",
    "        print('The maximum acurracy is: '+ str(key) +'==>'+str(value))\n",
    "print(\"MSE: \" + str(mseoos[-1]))\n",
    "plot.plot(ntreelist,accuracy)\n",
    "plot.xlabel(\"Number Of Trees\")\n",
    "plot.ylabel(\"Accuracy\")\n",
    "plot.show()\n"
   ]
  },
  {
   "cell_type": "markdown",
   "metadata": {},
   "source": [
    "# Output the importance of each feature"
   ]
  },
  {
   "cell_type": "code",
   "execution_count": null,
   "metadata": {},
   "outputs": [],
   "source": [
    "#using the feature_importances_ method to extract the numpy of attributes importance.\n",
    "featureimportance=winerandomforestmodel.feature_importances_\n",
    "#regularization\n",
    "featureimportance=featureimportance/featureimportance.max()\n",
    "#method argsort return the index of array.\n",
    "sorted_idx=numpy.argsort(featureimportance)\n",
    "barpos=numpy.arange(sorted_idx.shape[0]) + .5\n",
    "\n",
    "plot.barh(barpos,featureimportance[sorted_idx],align='center')\n",
    "plot.yticks(barpos,winenames[sorted_idx])\n",
    "plot.xlabel(\"Variable Importance\")\n",
    "plot.show()"
   ]
  }
 ],
 "metadata": {
  "kernelspec": {
   "display_name": "Python 3",
   "language": "python",
   "name": "python3"
  },
  "language_info": {
   "codemirror_mode": {
    "name": "ipython",
    "version": 3
   },
   "file_extension": ".py",
   "mimetype": "text/x-python",
   "name": "python",
   "nbconvert_exporter": "python",
   "pygments_lexer": "ipython3",
   "version": "3.7.0"
  }
 },
 "nbformat": 4,
 "nbformat_minor": 2
}
