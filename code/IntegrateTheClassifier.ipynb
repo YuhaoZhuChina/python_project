{
 "cells": [
  {
   "cell_type": "markdown",
   "metadata": {},
   "source": [
    "# Integrate the original 10 classifier into 3 classifier, then backroll the code above."
   ]
  },
  {
   "cell_type": "code",
   "execution_count": 2,
   "metadata": {},
   "outputs": [
    {
     "name": "stdout",
     "output_type": "stream",
     "text": [
      "The maximum acurracy is: 110==>0.9520833333333333\n",
      "The maximum acurracy is: 120==>0.9520833333333333\n",
      "The maximum acurracy is: 140==>0.9520833333333333\n",
      "The maximum acurracy is: 150==>0.9520833333333333\n",
      "The maximum acurracy is: 160==>0.9520833333333333\n",
      "The maximum acurracy is: 180==>0.9520833333333333\n",
      "The maximum acurracy is: 240==>0.9520833333333333\n",
      "The maximum acurracy is: 250==>0.9520833333333333\n",
      "The maximum acurracy is: 260==>0.9520833333333333\n",
      "The maximum acurracy is: 270==>0.9520833333333333\n",
      "The maximum acurracy is: 280==>0.9520833333333333\n",
      "The maximum acurracy is: 380==>0.9520833333333333\n",
      "The maximum acurracy is: 390==>0.9520833333333333\n",
      "The maximum acurracy is: 400==>0.9520833333333333\n",
      "The maximum acurracy is: 410==>0.9520833333333333\n",
      "The maximum acurracy is: 420==>0.9520833333333333\n",
      "The maximum acurracy is: 430==>0.9520833333333333\n",
      "The maximum acurracy is: 440==>0.9520833333333333\n",
      "The maximum acurracy is: 450==>0.9520833333333333\n",
      "The maximum acurracy is: 460==>0.9520833333333333\n",
      "The maximum acurracy is: 470==>0.9520833333333333\n",
      "The maximum acurracy is: 480==>0.9520833333333333\n",
      "The maximum acurracy is: 490==>0.9520833333333333\n",
      "MSE: 0.04791666666666667\n"
     ]
    },
    {
     "data": {
      "image/png": "[encoded data removed]",
      "text/plain": [
       "<Figure size 432x288 with 1 Axes>"
      ]
     },
     "metadata": {
      "needs_background": "light"
     },
     "output_type": "display_data"
    }
   ],
   "source": [
    "import numpy\n",
    "import csv\n",
    "from sklearn.model_selection import train_test_split\n",
    "from sklearn import ensemble\n",
    "from sklearn.metrics import mean_squared_error\n",
    "import pylab as plot\n",
    "\n",
    "\n",
    "data2=open(\"winequality-red.csv\")\n",
    "xlist2 = []\n",
    "labels2 = []\n",
    "firstline = True\n",
    "for line in data2:\n",
    "    if firstline:\n",
    "        row=line.strip().split(';')\n",
    "        firstline = False\n",
    "    else:\n",
    "        row=line.strip().split(';')\n",
    "        labels2.append(float(row[-1]))\n",
    "        floatrow = [float(row[i]) for i in range(6,11)]\n",
    "        xlist2.append(floatrow)\n",
    "three_labels = []\n",
    "for i in labels2:\n",
    "    if(i<=4):\n",
    "        i = 1\n",
    "        three_labels.append(i)\n",
    "    elif(4<i<=7):\n",
    "        i = 2\n",
    "        three_labels.append(i)\n",
    "    elif(7<i<=10):\n",
    "        i = 3\n",
    "        three_labels.append(i)      \n",
    "x2=numpy.array(xlist2)\n",
    "y2=numpy.array(three_labels)\n",
    "xtrain2,xtest2,ytrain2,ytest2=train_test_split(x2,y2,test_size=0.30,random_state=531)\n",
    "\n",
    "ntreelist2=range(50,500,10)\n",
    "dic2 = {}\n",
    "accuracy2 = []\n",
    "mseoos2 = []\n",
    "for itrees in ntreelist2:\n",
    "    count=0\n",
    "    depth=None\n",
    "    maxfeat=4\n",
    "    #train the Random Forest model.\n",
    "    winerandomforestmodel=ensemble.RandomForestClassifier(n_estimators=itrees,max_depth=depth,max_features=maxfeat,oob_score=False,random_state=531)\n",
    "    winerandomforestmodel.fit(xtrain2,ytrain2)\n",
    "    #put the prediction accuracy into dictionary.\n",
    "    prediction=winerandomforestmodel.predict(xtest2)\n",
    "    for i in range(len(prediction)):\n",
    "        if prediction[i]==ytest2[i]:\n",
    "            count += 1\n",
    "    accuracy2.append((count/len(prediction)))\n",
    "    dic2[itrees] = count/len(prediction)\n",
    "    mseoos2.append(mean_squared_error(ytest2,prediction))\n",
    "for key,value in dic2.items():\n",
    "    if value == max(dic2.values()):\n",
    "        print('The maximum acurracy is: '+ str(key) +'==>'+str(value))\n",
    "print(\"MSE: \" + str(mseoos2[-1]))\n",
    "\n",
    "plot.plot(ntreelist2,accuracy2)\n",
    "plot.xlabel(\"Number Of Trees\")\n",
    "plot.ylabel(\"Accuracy\")\n",
    "plot.show()"
   ]
  }
 ],
 "metadata": {
  "kernelspec": {
   "display_name": "Python 3",
   "language": "python",
   "name": "python3"
  },
  "language_info": {
   "codemirror_mode": {
    "name": "ipython",
    "version": 3
   },
   "file_extension": ".py",
   "mimetype": "text/x-python",
   "name": "python",
   "nbconvert_exporter": "python",
   "pygments_lexer": "ipython3",
   "version": "3.7.0"
  }
 },
 "nbformat": 4,
 "nbformat_minor": 2
}
